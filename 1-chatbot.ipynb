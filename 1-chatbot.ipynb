{
 "cells": [
  {
   "cell_type": "code",
   "execution_count": 2,
   "metadata": {},
   "outputs": [
    {
     "data": {
      "text/plain": [
       "True"
      ]
     },
     "execution_count": 2,
     "metadata": {},
     "output_type": "execute_result"
    }
   ],
   "source": [
    "import os\n",
    "from dotenv import load_dotenv\n",
    "load_dotenv()"
   ]
  },
  {
   "cell_type": "code",
   "execution_count": 3,
   "metadata": {},
   "outputs": [
    {
     "data": {
      "text/plain": [
       "'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'"
      ]
     },
     "execution_count": 3,
     "metadata": {},
     "output_type": "execute_result"
    }
   ],
   "source": [
    "groq_api_key=os.getenv(\"GROQ_API\")\n",
    "groq_api_key"
   ]
  },
  {
   "cell_type": "code",
   "execution_count": 4,
   "metadata": {},
   "outputs": [],
   "source": [
    "from langchain_groq import ChatGroq\n",
    "model=ChatGroq(model=\"Gemma2-9b-It\",groq_api_key=groq_api_key)"
   ]
  },
  {
   "cell_type": "code",
   "execution_count": 5,
   "metadata": {},
   "outputs": [
    {
     "data": {
      "text/plain": [
       "ChatGroq(client=<groq.resources.chat.completions.Completions object at 0x000001CC040CEAD0>, async_client=<groq.resources.chat.completions.AsyncCompletions object at 0x000001CC040CF670>, model_name='Gemma2-9b-It', model_kwargs={}, groq_api_key=SecretStr('**********'))"
      ]
     },
     "execution_count": 5,
     "metadata": {},
     "output_type": "execute_result"
    }
   ],
   "source": [
    "model"
   ]
  },
  {
   "cell_type": "code",
   "execution_count": 6,
   "metadata": {},
   "outputs": [],
   "source": [
    "from langchain_core.messages import HumanMessage"
   ]
  },
  {
   "cell_type": "code",
   "execution_count": 7,
   "metadata": {},
   "outputs": [
    {
     "data": {
      "text/plain": [
       "AIMessage(content=\"Hello Abdul Jabbar, it's a pleasure to meet you! \\n\\nThat's an impressive title. As a large language model, I am fascinated by the work that Chief AI Engineers do. What are you currently working on that you find most exciting?  \\n\\nI'm eager to learn more about your experience and the challenges and opportunities you see in the field of AI.\\n\", additional_kwargs={}, response_metadata={'token_usage': {'completion_tokens': 81, 'prompt_tokens': 24, 'total_tokens': 105, 'completion_time': 0.147272727, 'prompt_time': 0.000169259, 'queue_time': 0.022266638999999998, 'total_time': 0.147441986}, 'model_name': 'Gemma2-9b-It', 'system_fingerprint': 'fp_10c08bf97d', 'finish_reason': 'stop', 'logprobs': None}, id='run-5408e40e-9c2c-4352-9a58-f8cc0b47f11c-0', usage_metadata={'input_tokens': 24, 'output_tokens': 81, 'total_tokens': 105})"
      ]
     },
     "execution_count": 7,
     "metadata": {},
     "output_type": "execute_result"
    }
   ],
   "source": [
    "model.invoke([HumanMessage(content=\"Hi, My name is Abdul Jabbar and i am a Chief AI Engineer\")])"
   ]
  },
  {
   "cell_type": "code",
   "execution_count": 8,
   "metadata": {},
   "outputs": [],
   "source": [
    "from langchain_core.messages import AIMessage"
   ]
  },
  {
   "cell_type": "code",
   "execution_count": 9,
   "metadata": {},
   "outputs": [
    {
     "data": {
      "text/plain": [
       "AIMessage(content=\"You told me your name is Abdul Jabbar, and that you are a Chief AI Engineer!  \\n\\nIs there anything else you'd like to tell me about yourself or your work? 😊  \\n\", additional_kwargs={}, response_metadata={'token_usage': {'completion_tokens': 43, 'prompt_tokens': 167, 'total_tokens': 210, 'completion_time': 0.078181818, 'prompt_time': 0.00508295, 'queue_time': 0.021238489, 'total_time': 0.083264768}, 'model_name': 'Gemma2-9b-It', 'system_fingerprint': 'fp_10c08bf97d', 'finish_reason': 'stop', 'logprobs': None}, id='run-c6303b1a-d843-49e5-b5a4-b6bb672d2245-0', usage_metadata={'input_tokens': 167, 'output_tokens': 43, 'total_tokens': 210})"
      ]
     },
     "execution_count": 9,
     "metadata": {},
     "output_type": "execute_result"
    }
   ],
   "source": [
    "model.invoke(\n",
    "    [\n",
    "        HumanMessage(content=\"Hi, My name is Abdul Jabbar and i am a Chief AI Engineer\"),\n",
    "        AIMessage(content=\"Hello Abdul Jabbar, it's a pleasure to meet you!\\n\\nBeing a Chief AI Engineer is a fascinating role. What kind of projects are you currently working on?  I'm always eager to learn more about the exciting advancements happening in the field of AI.  \\n\\nPerhaps you could tell me:\\n\\n* **What industry are you working in?** \\n* **What are some of the biggest challenges you face as a Chief AI Engineer?**\\n* **What are you most excited about for the future of AI?**\\n\\n\\nI'm looking forward to hearing more about your work!\\n\")\n",
    "        ,HumanMessage(content=\"hey whats my name and what do i do\")\n",
    "    \n",
    "    \n",
    "    ]\n",
    "\n",
    ")"
   ]
  },
  {
   "cell_type": "code",
   "execution_count": 10,
   "metadata": {},
   "outputs": [],
   "source": [
    "### message history\n",
    "from langchain_community.chat_message_histories import ChatMessageHistory\n",
    "from langchain_core.chat_history import BaseChatMessageHistory\n",
    "from langchain_core.runnables.history import RunnableWithMessageHistory"
   ]
  },
  {
   "cell_type": "code",
   "execution_count": 13,
   "metadata": {},
   "outputs": [],
   "source": [
    "store={}\n",
    "\n",
    "def get_session_history(session_id:str)->BaseChatMessageHistory:\n",
    "    if session_id not in store:\n",
    "        store[session_id]=ChatMessageHistory()\n",
    "\n",
    "    return store[session_id]\n",
    "\n",
    "with_message_history=RunnableWithMessageHistory(model,get_session_history)"
   ]
  },
  {
   "cell_type": "code",
   "execution_count": 12,
   "metadata": {},
   "outputs": [],
   "source": [
    "config={\"configurable\":{\"session_id\":\"chat1\"}}"
   ]
  },
  {
   "cell_type": "code",
   "execution_count": 15,
   "metadata": {},
   "outputs": [],
   "source": [
    "response=with_message_history.invoke(\n",
    "    [HumanMessage(content='Hi, My name is Abdul Jabbar and I am a Chief AI Engineer')],\n",
    "    config=config\n",
    ")"
   ]
  },
  {
   "cell_type": "code",
   "execution_count": 16,
   "metadata": {},
   "outputs": [
    {
     "data": {
      "text/plain": [
       "\"Hello Abdul Jabbar, it's a pleasure to meet you! \\n\\nBeing a Chief AI Engineer is a very exciting role. What kind of projects are you currently working on? I'm always interested in learning about the latest advancements in AI. \\n\\nPerhaps you could tell me about:\\n\\n* **The industry you work in:**  Is it healthcare, finance, tech, or something else entirely?\\n* **The types of AI models you're developing:** Are you focused on machine learning, deep learning, natural language processing, computer vision, or another area?\\n* **Any particularly challenging or rewarding aspects of your work:** What keeps you motivated and engaged? \\n\\n\\nI'm looking forward to hearing about your experiences!\\n\""
      ]
     },
     "execution_count": 16,
     "metadata": {},
     "output_type": "execute_result"
    }
   ],
   "source": [
    "response.content"
   ]
  },
  {
   "cell_type": "code",
   "execution_count": 17,
   "metadata": {},
   "outputs": [],
   "source": [
    "response1=with_message_history.invoke(\n",
    "    [HumanMessage(content='what is my name')],\n",
    "    config=config\n",
    ")"
   ]
  },
  {
   "cell_type": "code",
   "execution_count": 18,
   "metadata": {},
   "outputs": [
    {
     "data": {
      "text/plain": [
       "'Your name is Abdul Jabbar.  😊 \\n\\nI remember that you told me when we first met. \\n\\n\\n\\n\\n'"
      ]
     },
     "execution_count": 18,
     "metadata": {},
     "output_type": "execute_result"
    }
   ],
   "source": [
    "response1.content"
   ]
  },
  {
   "cell_type": "code",
   "execution_count": 20,
   "metadata": {},
   "outputs": [],
   "source": [
    "from langchain_core.prompts import ChatPromptTemplate,MessagesPlaceholder"
   ]
  },
  {
   "cell_type": "code",
   "execution_count": 23,
   "metadata": {},
   "outputs": [],
   "source": [
    "prompt=ChatPromptTemplate.from_messages(\n",
    "    [\n",
    "        (\"system\",\"You are a helpful assistant.Answer all the questions to the best of your ability\"),\n",
    "        MessagesPlaceholder(variable_name=\"messages\")\n",
    "    ]\n",
    ")"
   ]
  },
  {
   "cell_type": "code",
   "execution_count": 24,
   "metadata": {},
   "outputs": [],
   "source": [
    "###creating a chain\n",
    "chain=prompt|model"
   ]
  },
  {
   "cell_type": "code",
   "execution_count": 25,
   "metadata": {},
   "outputs": [
    {
     "data": {
      "text/plain": [
       "AIMessage(content=\"It's nice to meet you too!  \\n\\nI'm ready for your questions. Ask away! 😊  \\n\", additional_kwargs={}, response_metadata={'token_usage': {'completion_tokens': 27, 'prompt_tokens': 32, 'total_tokens': 59, 'completion_time': 0.049090909, 'prompt_time': 0.002708054, 'queue_time': 0.103097185, 'total_time': 0.051798963}, 'model_name': 'Gemma2-9b-It', 'system_fingerprint': 'fp_10c08bf97d', 'finish_reason': 'stop', 'logprobs': None}, id='run-5031b337-e7f1-41ed-ac80-ca31666a0d56-0', usage_metadata={'input_tokens': 32, 'output_tokens': 27, 'total_tokens': 59})"
      ]
     },
     "execution_count": 25,
     "metadata": {},
     "output_type": "execute_result"
    }
   ],
   "source": [
    "chain.invoke({\"messages\":[HumanMessage(content=\"hI ITS NICE TO MEET YOU\")]})"
   ]
  },
  {
   "cell_type": "code",
   "execution_count": 26,
   "metadata": {},
   "outputs": [],
   "source": [
    "config={\"configurable\":{\"session_id\":\"chat4\"}}"
   ]
  },
  {
   "cell_type": "code",
   "execution_count": 27,
   "metadata": {},
   "outputs": [
    {
     "data": {
      "text/plain": [
       "AIMessage(content=\"Hello Ronaldo! 👋\\n\\nIt's great to meet you!  I'm doing well, thank you. How are you? 😊 \\n\\n\", additional_kwargs={}, response_metadata={'token_usage': {'completion_tokens': 33, 'prompt_tokens': 19, 'total_tokens': 52, 'completion_time': 0.06, 'prompt_time': 7.599e-05, 'queue_time': 0.02355386, 'total_time': 0.06007599}, 'model_name': 'Gemma2-9b-It', 'system_fingerprint': 'fp_10c08bf97d', 'finish_reason': 'stop', 'logprobs': None}, id='run-1f5e7099-1005-4972-b214-acba73ba979d-0', usage_metadata={'input_tokens': 19, 'output_tokens': 33, 'total_tokens': 52})"
      ]
     },
     "execution_count": 27,
     "metadata": {},
     "output_type": "execute_result"
    }
   ],
   "source": [
    "with_message_history.invoke(\n",
    "    [HumanMessage(content=\"heelo how are oyu my name ronaldo!!!!!!\")],\n",
    "    config=config\n",
    ")"
   ]
  },
  {
   "cell_type": "code",
   "execution_count": 28,
   "metadata": {},
   "outputs": [
    {
     "data": {
      "text/plain": [
       "AIMessage(content='Your name is Ronaldo!  You told me yourself. 🙂  \\n\\n\\n', additional_kwargs={}, response_metadata={'token_usage': {'completion_tokens': 16, 'prompt_tokens': 63, 'total_tokens': 79, 'completion_time': 0.029090909, 'prompt_time': 0.002067441, 'queue_time': 0.022182569, 'total_time': 0.03115835}, 'model_name': 'Gemma2-9b-It', 'system_fingerprint': 'fp_10c08bf97d', 'finish_reason': 'stop', 'logprobs': None}, id='run-a2ea5ac2-e8bc-448f-b4f3-889438ff81d7-0', usage_metadata={'input_tokens': 63, 'output_tokens': 16, 'total_tokens': 79})"
      ]
     },
     "execution_count": 28,
     "metadata": {},
     "output_type": "execute_result"
    }
   ],
   "source": [
    "with_message_history.invoke(\n",
    "    [HumanMessage(content=\"what is my name\")],\n",
    "    config=config\n",
    ")"
   ]
  },
  {
   "cell_type": "code",
   "execution_count": 35,
   "metadata": {},
   "outputs": [],
   "source": [
    "with_message_history=RunnableWithMessageHistory(\n",
    "    chain,\n",
    "    get_session_history,\n",
    "    input_message_key=\"messages\"\n",
    ")"
   ]
  },
  {
   "cell_type": "code",
   "execution_count": 36,
   "metadata": {},
   "outputs": [],
   "source": [
    "config={\"configurable\":{\"session_id\":\"chat5\"}}"
   ]
  },
  {
   "cell_type": "code",
   "execution_count": 40,
   "metadata": {},
   "outputs": [
    {
     "data": {
      "text/plain": [
       "\"Hi Krish, it's nice to meet you!  😄 \\n\\nIs there anything you'd like to talk about or ask me? I'm ready when you are! 😊  \\n\""
      ]
     },
     "execution_count": 40,
     "metadata": {},
     "output_type": "execute_result"
    }
   ],
   "source": [
    "response=with_message_history.invoke(\n",
    "    {'messages':[HumanMessage(content='hi i am krish')]},\n",
    "    config=config\n",
    ")\n",
    "\n",
    "response.content"
   ]
  },
  {
   "cell_type": "code",
   "execution_count": 47,
   "metadata": {},
   "outputs": [],
   "source": [
    "##MANAGING THE CHAT CONVERSATION HISTORY\n",
    "\n",
    "from langchain_core.messages import SystemMessage,trim_messages\n",
    "trimmer=trim_messages(\n",
    "    max_tokens=45,\n",
    "    strategy=\"last\",\n",
    "    token_counter=model,\n",
    "    include_system=True,\n",
    "    allow_partial=False,\n",
    "    start_on=\"human\"\n",
    ")"
   ]
  },
  {
   "cell_type": "code",
   "execution_count": 48,
   "metadata": {},
   "outputs": [],
   "source": [
    "messages = [\n",
    "    SystemMessage(content=\"You are a helpful and knowledgeable assistant.\"),\n",
    "    HumanMessage(content=\"Hi! I am Tom.\"),\n",
    "    AIMessage(content=\"Hi Tom! How can I assist you today?\"),\n",
    "    HumanMessage(content=\"Can you tell me about the weather in Zurich?\"),\n",
    "    AIMessage(content=\"Sure! The weather in Zurich is usually mild, with warm summers and cold winters.\"),\n",
    "    HumanMessage(content=\"What is the cost of living there compared to India?\"),\n",
    "    AIMessage(content=\"Zurich is significantly more expensive than India. On average, the cost of living is about 4-5 times higher.\"),\n",
    "    HumanMessage(content=\"Wow! What is the average rent for a 1BHK apartment?\"),\n",
    "    AIMessage(content=\"A 1BHK apartment in Zurich typically costs between 2,000 and 2,500 CHF per month.\"),\n",
    "    HumanMessage(content=\"That's quite expensive! What are some high-paying jobs in Zurich?\"),\n",
    "    AIMessage(content=\"Some of the highest-paying jobs in Zurich include roles in finance, IT, data science, and pharmaceuticals.\"),\n",
    "    HumanMessage(content=\"Interesting! Can you give me an example of a tech job salary?\"),\n",
    "    AIMessage(content=\"Sure! A data scientist in Zurich can earn around 120,000 to 150,000 CHF per year.\"),\n",
    "    HumanMessage(content=\"Thanks! That was helpful.\"),\n",
    "    AIMessage(content=\"You're welcome! Let me know if you need anything else.\"),\n",
    "]"
   ]
  },
  {
   "cell_type": "code",
   "execution_count": 49,
   "metadata": {},
   "outputs": [
    {
     "data": {
      "text/plain": [
       "[SystemMessage(content='You are a helpful and knowledgeable assistant.', additional_kwargs={}, response_metadata={}),\n",
       " HumanMessage(content='Thanks! That was helpful.', additional_kwargs={}, response_metadata={}),\n",
       " AIMessage(content=\"You're welcome! Let me know if you need anything else.\", additional_kwargs={}, response_metadata={})]"
      ]
     },
     "execution_count": 49,
     "metadata": {},
     "output_type": "execute_result"
    }
   ],
   "source": [
    "trimmer.invoke(messages)"
   ]
  },
  {
   "cell_type": "code",
   "execution_count": 50,
   "metadata": {},
   "outputs": [],
   "source": [
    "from operator import itemgetter"
   ]
  },
  {
   "cell_type": "code",
   "execution_count": 53,
   "metadata": {},
   "outputs": [],
   "source": [
    "from langchain_core.runnables import RunnablePassthrough\n",
    "\n",
    "chain=(\n",
    "    RunnablePassthrough.assign(messages=itemgetter(\"messages\"))\n",
    "    | prompt\n",
    "    | model\n",
    ")"
   ]
  },
  {
   "cell_type": "code",
   "execution_count": 54,
   "metadata": {},
   "outputs": [
    {
     "data": {
      "text/plain": [
       "\"I'm glad I could be of help, Tom! \\n\\nYou asked about:\\n\\n* **The weather in Zurich:** I told you it's generally mild with warm summers and cold winters.\\n* **The cost of living compared to India:** I mentioned it's about 4-5 times higher in Zurich.\\n* **Average rent for a 1BHK apartment:** I gave you a range of 2,000 to 2,500 CHF per month.\\n* **High-paying jobs in Zurich:** I listed finance, IT, data science, and pharmaceuticals.\\n* **Example tech job salary:** I said a data scientist can earn 120,000 to 150,000 CHF per year. \\n\\n\\nIs there anything else I can help you with regarding Zurich or anything else?\\n\""
      ]
     },
     "execution_count": 54,
     "metadata": {},
     "output_type": "execute_result"
    }
   ],
   "source": [
    "response=chain.invoke(\n",
    "    {\n",
    "        'messages':messages+[HumanMessage(content='what was helpful')]\n",
    "    }\n",
    ")\n",
    "\n",
    "response.content"
   ]
  },
  {
   "cell_type": "code",
   "execution_count": null,
   "metadata": {},
   "outputs": [],
   "source": []
  }
 ],
 "metadata": {
  "kernelspec": {
   "display_name": "vgen",
   "language": "python",
   "name": "python3"
  },
  "language_info": {
   "codemirror_mode": {
    "name": "ipython",
    "version": 3
   },
   "file_extension": ".py",
   "mimetype": "text/x-python",
   "name": "python",
   "nbconvert_exporter": "python",
   "pygments_lexer": "ipython3",
   "version": "3.10.16"
  }
 },
 "nbformat": 4,
 "nbformat_minor": 2
}
